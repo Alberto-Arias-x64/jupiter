{
 "metadata": {
  "language_info": {
   "codemirror_mode": {
    "name": "ipython",
    "version": 3
   },
   "file_extension": ".py",
   "mimetype": "text/x-python",
   "name": "python",
   "nbconvert_exporter": "python",
   "pygments_lexer": "ipython3",
   "version": "3.9.1-final"
  },
  "orig_nbformat": 2,
  "kernelspec": {
   "name": "python3",
   "display_name": "Python 3.9.1 64-bit",
   "metadata": {
    "interpreter": {
     "hash": "ce11969ab1e73f7bc774104ed6274e3450c42c0bf6462401cecbe2784233839f"
    }
   }
  }
 },
 "nbformat": 4,
 "nbformat_minor": 2,
 "cells": [
  {
   "cell_type": "code",
   "execution_count": 2,
   "metadata": {},
   "outputs": [],
   "source": [
    "\n",
    "def graficar_vectores(vecs,cols,alpha=1):\n",
    "\n",
    "    plt.axhline(x = 0, color = \"grey \", zorder = 0)\n",
    "    plt.ayhline(y = 0, color = \"grey \", zorder = 0)\n",
    "\n",
    "    for i in range(len(vecs)):\n",
    "        x = np.concatenate([[0,0],vecs[i]])\n",
    "        plt.quiver(\n",
    "            [x[0]],\n",
    "            [x[1]],\n",
    "            [x[2]],\n",
    "            [x[3]],\n",
    "            angles = 'xy', scale_units = 'xy',\n",
    "            scale = 1, alpha = alpha\n",
    "        )"
   ]
  }
 ]
}